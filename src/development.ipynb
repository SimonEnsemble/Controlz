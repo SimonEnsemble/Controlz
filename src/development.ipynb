{
 "cells": [
  {
   "cell_type": "code",
   "execution_count": 1,
   "metadata": {},
   "outputs": [],
   "source": [
    "using Polynomials\n",
    "push!(LOAD_PATH, pwd())\n",
    "using Controlz\n",
    "using Test\n",
    "using PyPlot\n",
    "using DifferentialEquations\n",
    "using Logging"
   ]
  },
  {
   "cell_type": "code",
   "execution_count": 18,
   "metadata": {},
   "outputs": [
    {
     "data": {
      "text/plain": [
       "(0.0:0.12121212121212122:12.0, [0.0, 0.07919736053425332, 0.15525861488945147, 0.2283079339324153, 0.29846461345984515, 0.3658432320334914, 0.43055367786012144, 0.49270162994720224, 0.5523886363620103, 0.6097122117849327  …  1.9473093175948804, 1.9493934831964295, 1.9513949404710857, 1.9533171485642635, 1.9551634444123014, 1.9569370427424628, 1.958641036072935, 1.9602783911281778, 1.9618513144305816, 1.963361952012428])"
      ]
     },
     "execution_count": 18,
     "metadata": {},
     "output_type": "execute_result"
    }
   ],
   "source": [
    "function simulate(tf::TransferFunction, u::Function, tspan::Tuple{Float64, Float64};\n",
    "        nb_time_points::Int=100)\n",
    "    if ! proper(tf)\n",
    "        error(\"transfer function not proper...\")\n",
    "    end\n",
    "    # TODO implement time delays\n",
    "    if tf.time_delay != 0.0\n",
    "        error(\"time delay not implemented yet\")\n",
    "    end\n",
    "    \n",
    "    a_i(i::Int) = tf.denominator[i]\n",
    "    b_i(i::Int) = tf.numerator[i]\n",
    "    n = degree(tf.denominator)\n",
    "    \n",
    "    # convert tf to state space form\n",
    "    A, B, C = Controlz.tf_to_ss(tf)\n",
    "    \n",
    "    x0 = zeros(n, 1) # initial condition\n",
    "    \n",
    "    f(x, p, t) = A * x + B * u(t) # RHS of ODE (ignore p for params)\n",
    "    prob = ODEProblem(f, x0, tspan)\n",
    "    sol = solve(prob)\n",
    "    \n",
    "    t = range(tspan[1], stop=tspan[2], length=nb_time_points)\n",
    "    y = [NaN for i = 1:nb_time_points]\n",
    "    for (i, t_i) in enumerate(t)\n",
    "        y[i] = (C * sol(t_i))[1] + b_i(n) / a_i(n) * u(t_i)\n",
    "    end\n",
    "    return t, y\n",
    "end\n",
    "\n",
    "tf = 2 / (3 * s + 1)\n",
    "tspan = (0.0, 12.0)\n",
    "u(t) = t < 0.0 ? 0.0 : 1.0\n",
    "t, y = simulate(tf, u, tspan, nb_time_points=100)"
   ]
  },
  {
   "cell_type": "code",
   "execution_count": 19,
   "metadata": {},
   "outputs": [
    {
     "data": {
      "image/png": "[encoded data removed]",
      "text/plain": [
       "Figure(PyObject <Figure size 640x480 with 1 Axes>)"
      ]
     },
     "metadata": {},
     "output_type": "display_data"
    },
    {
     "data": {
      "text/plain": [
       "1-element Array{PyCall.PyObject,1}:\n",
       " PyObject <matplotlib.lines.Line2D object at 0x7f334a76f0f0>"
      ]
     },
     "execution_count": 19,
     "metadata": {},
     "output_type": "execute_result"
    }
   ],
   "source": [
    "figure()\n",
    "plot(t, y)"
   ]
  },
  {
   "cell_type": "code",
   "execution_count": 5,
   "metadata": {},
   "outputs": [
    {
     "data": {
      "text/plain": [
       "1-element Array{Float64,1}:\n",
       " 0.0"
      ]
     },
     "execution_count": 5,
     "metadata": {},
     "output_type": "execute_result"
    }
   ],
   "source": [
    "y"
   ]
  },
  {
   "cell_type": "code",
   "execution_count": 6,
   "metadata": {},
   "outputs": [
    {
     "data": {
      "text/plain": [
       "(0.0, 1.0)"
      ]
     },
     "execution_count": 6,
     "metadata": {},
     "output_type": "execute_result"
    }
   ],
   "source": [
    "u(t) = 3.0\n",
    "\n",
    "tspan = (0.0, 1.0)\n"
   ]
  },
  {
   "cell_type": "code",
   "execution_count": 7,
   "metadata": {},
   "outputs": [
    {
     "data": {
      "text/plain": [
       "Tuple{Float64,Float64}"
      ]
     },
     "execution_count": 7,
     "metadata": {},
     "output_type": "execute_result"
    }
   ],
   "source": [
    "typeof(tspan)"
   ]
  },
  {
   "cell_type": "code",
   "execution_count": null,
   "metadata": {},
   "outputs": [],
   "source": []
  },
  {
   "cell_type": "code",
   "execution_count": null,
   "metadata": {},
   "outputs": [],
   "source": []
  },
  {
   "cell_type": "code",
   "execution_count": null,
   "metadata": {},
   "outputs": [],
   "source": []
  },
  {
   "cell_type": "code",
   "execution_count": 8,
   "metadata": {},
   "outputs": [
    {
     "ename": "UndefVarError",
     "evalue": "UndefVarError: sol not defined",
     "output_type": "error",
     "traceback": [
      "UndefVarError: sol not defined",
      "",
      "Stacktrace:",
      " [1] top-level scope at In[8]:1"
     ]
    }
   ],
   "source": [
    "sol.u"
   ]
  },
  {
   "cell_type": "code",
   "execution_count": null,
   "metadata": {},
   "outputs": [],
   "source": []
  },
  {
   "cell_type": "code",
   "execution_count": 9,
   "metadata": {},
   "outputs": [],
   "source": [
    "    tf = 1 / (2 * s + 1)\n",
    "    @assert proper(tf)\n",
    "    @assert strictly_proper(tf)\n",
    "    tf = 3 * s / (2 * s + 1)\n",
    "    @assert proper(tf)\n",
    "    @assert ! strictly_proper(tf)\n",
    "    tf = (3 * s * s) / (2 * s + 1)\n",
    "    @assert ! proper(tf)\n",
    "    @assert ! strictly_proper(tf)\n"
   ]
  },
  {
   "cell_type": "code",
   "execution_count": 10,
   "metadata": {},
   "outputs": [
    {
     "data": {
      "text/plain": [
       "   3.0*s\n",
       "-----------\n",
       "2.0*s + 1.0"
      ]
     },
     "execution_count": 10,
     "metadata": {},
     "output_type": "execute_result"
    }
   ],
   "source": [
    "tf = 3 * s / (2 * s + 1)"
   ]
  },
  {
   "cell_type": "code",
   "execution_count": 11,
   "metadata": {},
   "outputs": [
    {
     "data": {
      "text/plain": [
       "true"
      ]
     },
     "execution_count": 11,
     "metadata": {},
     "output_type": "execute_result"
    }
   ],
   "source": [
    "proper(tf)"
   ]
  },
  {
   "cell_type": "code",
   "execution_count": 12,
   "metadata": {},
   "outputs": [
    {
     "data": {
      "text/plain": [
       "false"
      ]
     },
     "execution_count": 12,
     "metadata": {},
     "output_type": "execute_result"
    }
   ],
   "source": [
    "strictly_proper(tf)"
   ]
  },
  {
   "cell_type": "code",
   "execution_count": null,
   "metadata": {},
   "outputs": [],
   "source": []
  }
 ],
 "metadata": {
  "kernelspec": {
   "display_name": "Julia 1.3.0",
   "language": "julia",
   "name": "julia-1.3"
  },
  "language_info": {
   "file_extension": ".jl",
   "mimetype": "application/julia",
   "name": "julia",
   "version": "1.3.0"
  }
 },
 "nbformat": 4,
 "nbformat_minor": 2
}
