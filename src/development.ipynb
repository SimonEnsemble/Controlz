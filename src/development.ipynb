{
 "cells": [
  {
   "cell_type": "code",
   "execution_count": 71,
   "metadata": {},
   "outputs": [],
   "source": [
    "using Polynomials\n",
    "\n",
    "\"\"\"\n",
    "    tf = TransferFunction([1, 2], [3, 5, 8])\n",
    "    tf = TransferFunction([1, 2], [3, 5, 8], 3.0)\n",
    "\n",
    "A transfer function representing a linear, time-invariant system.\n",
    "\n",
    "* `numerator::Poly`: the polynomial in the numerator of the transfer function\n",
    "* `denominator::Poly`: the polynomial in the denominator of the transfer function\n",
    "* `time_delay::Float64`: the associated time delay\n",
    "\"\"\"\n",
    "struct TransferFunction\n",
    "    numerator::Poly\n",
    "    denominator::Poly\n",
    "    time_delay::Float64\n",
    "end\n",
    "\n",
    "ArrayOfReals = Union{Array{Int64, 1}, Array{Float64, 1}}\n",
    "\n",
    "TransferFunction(num::ArrayOfReals, den::ArrayOfReals) = \n",
    "    TransferFunction(Poly(reverse(num), :s), Poly(reverse(den), :s), 0.0)\n",
    "\n",
    "TransferFunction(num::ArrayOfReals, den::ArrayOfReals, td::Float64) = \n",
    "    TransferFunction(Poly(reverse(num), :s), Poly(reverse(den), :s), td)\n",
    "\n",
    "zeros(tf::TransferFunction) = roots(tf.numerator)\n",
    "poles(tf::TransferFunction) = roots(tf.denominator)\n",
    "\n",
    "\"\"\"\n",
    "Convert a polynomial to a string for printing.\n",
    "\"\"\"\n",
    "function poly_to_string(poly::Poly)\n",
    "    io = IOBuffer();\n",
    "    printpoly(io, poly, descending_powers=true)\n",
    "    return String(take!(io))\n",
    "end\n",
    "\n",
    "function Base.show(io::IO, tf::TransferFunction)\n",
    "    top = poly_to_string(tf.numerator)\n",
    "    bottom = poly_to_string(tf.denominator)\n",
    "    \n",
    "    nb_dashes = maximum([length(top), length(bottom)])\n",
    "    \n",
    "    # print numerator\n",
    "    nb_slack = floor(Int, (nb_dashes - length(top)) / 2) # for centering\n",
    "    for i = 1:nb_slack\n",
    "        print(io, \" \")\n",
    "    end\n",
    "    println(io, top)\n",
    "    \n",
    "    # print dashes to separate numerator and denominator\n",
    "    for _ = 1:nb_dashes\n",
    "        print(io, \"-\")\n",
    "    end\n",
    "    if tf.time_delay != 0.0\n",
    "        print(io, \" e^(-$(tf.time_delay)*s)\")\n",
    "    end\n",
    "    print(io, \"\\n\")\n",
    "    \n",
    "    # print denominator\n",
    "    nb_slack = floor(Int, (nb_dashes - length(bottom)) / 2) # for centering\n",
    "    for i = 1:nb_slack\n",
    "        print(io, \" \")\n",
    "    end\n",
    "    println(io, bottom)\n",
    "end"
   ]
  },
  {
   "cell_type": "code",
   "execution_count": 72,
   "metadata": {},
   "outputs": [
    {
     "data": {
      "text/plain": [
       "     2.0*s + 1.0\n",
       "----------------------\n",
       "1.0*s^2 + 3.0*s + 10.0\n"
      ]
     },
     "execution_count": 72,
     "metadata": {},
     "output_type": "execute_result"
    }
   ],
   "source": [
    "tf = TransferFunction([2., 1], [1., 3., 10], 0.0)"
   ]
  },
  {
   "cell_type": "code",
   "execution_count": 74,
   "metadata": {},
   "outputs": [
    {
     "data": {
      "text/plain": [
       "1-element Array{Float64,1}:\n",
       " -0.5"
      ]
     },
     "execution_count": 74,
     "metadata": {},
     "output_type": "execute_result"
    }
   ],
   "source": [
    "zeros(tf)"
   ]
  },
  {
   "cell_type": "code",
   "execution_count": 75,
   "metadata": {},
   "outputs": [
    {
     "data": {
      "text/plain": [
       "2-element Array{Complex{Float64},1}:\n",
       " -1.5 - 2.7838821814150108im\n",
       " -1.5 + 2.7838821814150108im"
      ]
     },
     "execution_count": 75,
     "metadata": {},
     "output_type": "execute_result"
    }
   ],
   "source": [
    "poles(tf)"
   ]
  },
  {
   "cell_type": "code",
   "execution_count": 73,
   "metadata": {},
   "outputs": [
    {
     "name": "stdout",
     "output_type": "stream",
     "text": [
      "2.02 + 1.0*x"
     ]
    }
   ],
   "source": [
    "p = Poly([2.02, 1])\n",
    "printpoly(stdout, p)"
   ]
  },
  {
   "cell_type": "code",
   "execution_count": 77,
   "metadata": {},
   "outputs": [
    {
     "data": {
      "text/plain": [
       "2.02 + 3.0im"
      ]
     },
     "execution_count": 77,
     "metadata": {},
     "output_type": "execute_result"
    }
   ],
   "source": [
    "polyval(p, 3*im)"
   ]
  },
  {
   "cell_type": "code",
   "execution_count": 35,
   "metadata": {},
   "outputs": [],
   "source": [
    "io = IOBuffer();"
   ]
  },
  {
   "cell_type": "code",
   "execution_count": 36,
   "metadata": {},
   "outputs": [],
   "source": [
    "printpoly(io, p)"
   ]
  },
  {
   "cell_type": "code",
   "execution_count": 37,
   "metadata": {},
   "outputs": [
    {
     "data": {
      "text/plain": [
       "\"2.02 + 1.0*x\""
      ]
     },
     "execution_count": 37,
     "metadata": {},
     "output_type": "execute_result"
    }
   ],
   "source": [
    "num = String(take!(io))"
   ]
  },
  {
   "cell_type": "code",
   "execution_count": 38,
   "metadata": {},
   "outputs": [
    {
     "data": {
      "text/plain": [
       "\"2.02 + 1.0*x\""
      ]
     },
     "execution_count": 38,
     "metadata": {},
     "output_type": "execute_result"
    }
   ],
   "source": [
    "num"
   ]
  },
  {
   "cell_type": "code",
   "execution_count": null,
   "metadata": {},
   "outputs": [],
   "source": []
  }
 ],
 "metadata": {
  "kernelspec": {
   "display_name": "Julia 1.3.0",
   "language": "julia",
   "name": "julia-1.3"
  },
  "language_info": {
   "file_extension": ".jl",
   "mimetype": "application/julia",
   "name": "julia",
   "version": "1.3.0"
  }
 },
 "nbformat": 4,
 "nbformat_minor": 2
}
