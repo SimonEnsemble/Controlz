{
 "cells": [
  {
   "cell_type": "code",
   "execution_count": 24,
   "metadata": {},
   "outputs": [],
   "source": [
    "using Polynomials\n",
    "push!(LOAD_PATH, pwd())\n",
    "using Controlz\n",
    "using Test\n",
    "using DifferentialEquations\n",
    "using Logging\n",
    "using DataFrames\n",
    "using LaTeXStrings\n",
    "using PyPlot\n",
    "PyPlot.matplotlib.style.use(\"hipster.mplstyle\")"
   ]
  },
  {
   "cell_type": "code",
   "execution_count": null,
   "metadata": {},
   "outputs": [],
   "source": [
    "##\n",
    "# second order, underdamped\n",
    "K = 4.3\n",
    "τ = 2.8\n",
    "ξ = 0.2\n",
    "g = K / (τ ^ 2 * s ^ 2 + 2 * τ * ξ * s + 1)\n",
    "# impulse response\n",
    "t, y = simulate(s/s^2, (0.0, 25.0))\n",
    "\n",
    "viz_response(t, y, plot_title=\"underdamped step response\")"
   ]
  },
  {
   "cell_type": "code",
   "execution_count": null,
   "metadata": {},
   "outputs": [],
   "source": [
    "# test transfer function algebra (P-control regulator step response)\n",
    "τ = 1.4\n",
    "K = 2.8\n",
    "Kc = 3.3\n",
    "Kd = 4.5\n",
    "τd = 8.2\n",
    "gd = Kd / (τd * s + 1)\n",
    "gcgp = K * Kc / (τ * s + 1)\n",
    "y_ovr_d = gd / (1 + gcgp)\n",
    "@test isapprox(y_ovr_d, TransferFunction(Kd/(1+Kc*K) * [τ, 1], [τd*τ/(1+Kc*K), (τ+τd+Kc*K*τd)/(1+Kc*K), 1]))"
   ]
  },
  {
   "cell_type": "code",
   "execution_count": null,
   "metadata": {},
   "outputs": [],
   "source": [
    "viz_poles_and_zeros(g)"
   ]
  },
  {
   "cell_type": "code",
   "execution_count": null,
   "metadata": {},
   "outputs": [],
   "source": [
    "viz_nyquist_diagram(g)"
   ]
  },
  {
   "cell_type": "code",
   "execution_count": null,
   "metadata": {},
   "outputs": [],
   "source": [
    "g_ol = 4 / (s + 3) / (s + 2) / (s + 1)\n",
    "\n",
    "viz_root_locus(g_ol)"
   ]
  }
 ],
 "metadata": {
  "@webio": {
   "lastCommId": null,
   "lastKernelId": null
  },
  "kernelspec": {
   "display_name": "Julia 1.3.0",
   "language": "julia",
   "name": "julia-1.3"
  },
  "language_info": {
   "file_extension": ".jl",
   "mimetype": "application/julia",
   "name": "julia",
   "version": "1.3.0"
  }
 },
 "nbformat": 4,
 "nbformat_minor": 2
}
