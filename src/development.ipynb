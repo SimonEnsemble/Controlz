{
 "cells": [
  {
   "cell_type": "code",
   "execution_count": 1,
   "metadata": {},
   "outputs": [
    {
     "name": "stderr",
     "output_type": "stream",
     "text": [
      "┌ Info: Precompiling Controlz [top-level]\n",
      "└ @ Base loading.jl:1273\n",
      "┌ Info: Loading DataFrames support into Gadfly.jl\n",
      "└ @ Gadfly /home/cokes/.julia/packages/Gadfly/09PWZ/src/mapping.jl:228\n"
     ]
    }
   ],
   "source": [
    "using Polynomials\n",
    "push!(LOAD_PATH, pwd())\n",
    "using Controlz\n",
    "using Test\n",
    "using Gadfly\n",
    "using DifferentialEquations\n",
    "using Logging\n",
    "using DataFrames\n",
    "\n",
    "hipster_theme = Theme(default_color=\"orange\", line_width=1mm, \n",
    "    major_label_font_size=14pt, minor_label_font_size=12pt, \n",
    "    panel_fill=\"ivory\", minor_label_font=\"Courier\", \n",
    "    major_label_font=\"Courier\", point_size=5pt);"
   ]
  },
  {
   "cell_type": "code",
   "execution_count": null,
   "metadata": {},
   "outputs": [],
   "source": [
    "##\n",
    "# second order, underdamped\n",
    "K = 4.3\n",
    "τ = 2.8\n",
    "ξ = 0.2\n",
    "g = K / (τ ^ 2 * s ^ 2 + 2 * τ * ξ * s + 1)\n",
    "# impulse response\n",
    "t, y = simulate(g, (0.0, 25.0))\n",
    "\n",
    "plot(x=t, y=y, Geom.line, \n",
    "    Guide.xlabel(\"time, t\"), \n",
    "    Guide.ylabel(\"output y(t)\"),\n",
    "    Guide.title(\"underdamped step response\"),\n",
    "    hipster_theme)"
   ]
  },
  {
   "cell_type": "code",
   "execution_count": null,
   "metadata": {},
   "outputs": [],
   "source": [
    "g = zeros_poles_gain([2*im, -2*im, 3], [4, 5, 6], 13.0)"
   ]
  },
  {
   "cell_type": "code",
   "execution_count": null,
   "metadata": {},
   "outputs": [],
   "source": [
    "z, p, k = zeros_poles_gain(g)\n",
    "\n",
    "plot(layer(x=real(z), y=imag(z), Geom.point, shape=[Shape.cross]),\n",
    "     layer(x=real(p), y=imag(p), Geom.point),\n",
    "     Guide.xlabel(\"Re\"),\n",
    "     Guide.ylabel(\"Im\"),\n",
    "        hipster_theme\n",
    "        )"
   ]
  },
  {
   "cell_type": "code",
   "execution_count": null,
   "metadata": {},
   "outputs": [],
   "source": [
    "real(z)"
   ]
  },
  {
   "cell_type": "code",
   "execution_count": null,
   "metadata": {},
   "outputs": [],
   "source": [
    "plot(layer(x=rand(4), y=rand(4), Geom.point),\n",
    "     layer(x=rand(4), y=rand(4), Geom.point),\n",
    "     Guide.xlabel(\"Re\"),\n",
    "     Guide.ylabel(\"Im\"),\n",
    "     shape=[Shape.hexagon, Shape.cross]\n",
    ")"
   ]
  },
  {
   "cell_type": "code",
   "execution_count": null,
   "metadata": {},
   "outputs": [],
   "source": [
    "df = DataFrame(x=rand(3), y=rand(3), z=[\"a\", \"a\", \"b\"])\n",
    "\n",
    "plot(df, x=:x, y=:y, shape=:z, hipster_theme, shapes=[Shape.cross, Shape.circle])"
   ]
  },
  {
   "cell_type": "code",
   "execution_count": null,
   "metadata": {},
   "outputs": [],
   "source": []
  }
 ],
 "metadata": {
  "kernelspec": {
   "display_name": "Julia 1.3.0",
   "language": "julia",
   "name": "julia-1.3"
  },
  "language_info": {
   "file_extension": ".jl",
   "mimetype": "application/julia",
   "name": "julia",
   "version": "1.3.0"
  }
 },
 "nbformat": 4,
 "nbformat_minor": 2
}
